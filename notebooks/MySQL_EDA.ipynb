{
 "cells": [
  {
   "cell_type": "markdown",
   "metadata": {},
   "source": [
    "# MySQL EDA"
   ]
  },
  {
   "cell_type": "markdown",
   "metadata": {},
   "source": [
    "MySQL EDA had to load df.csv 100MM records from the MySQL command line with the following:"
   ]
  },
  {
   "cell_type": "markdown",
   "metadata": {},
   "source": [
    "#### <font color=blue>Note: do the following first before proceeding to connect to MySQL<font color=black>\n",
    "_MySQL EDA had to load df.csv 100MM records from the MySQL command line with the following:_\n",
    "\n",
    "sb@DESKTOP-P48C40B c:\\xampp\\mysql\\bin\n",
    "\n",
    "<font color=red>#> mysql.exe -u root --password<font color=black>\n",
    "\n",
    "<font color=red>#> Enter password:<font color=black>\n",
    "\n",
    "Welcome to the MariaDB monitor.  Commands end with ; or \\g.\n",
    "Your MariaDB connection id is 432\n",
    "Server version: 10.4.6-MariaDB mariadb.org binary distribution\n",
    "\n",
    "Copyright (c) 2000, 2018, Oracle, MariaDB Corporation Ab and others.\n",
    "\n",
    "Type 'help;' or '\\h' for help. Type '\\c' to clear the current input statement.\n",
    "\n",
    "MariaDB [(none)]> <font color=red>use netflixstudy<font color=black>\n",
    "\n",
    "Database changed\n",
    "    \n",
    "\n",
    "MariaDB [netflixstudy]> <font color=red>load data local infile 'df_test.csv' into table ratings;<font color=black>\n",
    "\n",
    "Query OK, 108 rows affected, 432 warnings (0.016 sec)\n",
    "Records: 108  Deleted: 0  Skipped: 0  Warnings: 432\n",
    "\n",
    "MariaDB [netflixstudy]> <font color=red>load data local infile 'df_test.csv' into table ratings fields terminated by ',';<font color=black>\n",
    "\n",
    "Query OK, 108 rows affected, 111 warnings (0.004 sec)\n",
    "Records: 108  Deleted: 0  Skipped: 0  Warnings: 111\n",
    "\n",
    "MariaDB [netflixstudy]> <font color=red>load data local infile 'df.csv' into table ratings fields terminated by ',';<font color=black>\n",
    "\n",
    "Query OK, 71833510 rows affected, 65535 warnings (6 min 47.817 sec)\n",
    "Records: 71833510  Deleted: 0  Skipped: 0  Warnings: 71833513\n",
    "\n",
    "MariaDB [netflixstudy]>"
   ]
  },
  {
   "cell_type": "code",
   "execution_count": 18,
   "metadata": {},
   "outputs": [],
   "source": [
    "# Import necessary modules\n",
    "import pandas as pd\n",
    "import mysql.connector\n",
    "from mysql.connector import errorcode"
   ]
  },
  {
   "cell_type": "code",
   "execution_count": 19,
   "metadata": {},
   "outputs": [],
   "source": [
    "# from https://dev.mysql.com/doc/connector-python/en/connector-python-example-connecting.html\n",
    "try:\n",
    "    db = mysql.connector.connect(\n",
    "        host=\"localhost\",\n",
    "        user=\"root\",\n",
    "        password=\"\",\n",
    "        database=\"netflixstudy\"\n",
    "        )\n",
    "except mysql.connector.Error as err:\n",
    "  if err.errno == errorcode.ER_ACCESS_DENIED_ERROR:\n",
    "    print(\"Something is wrong with your user name or password\")\n",
    "  elif err.errno == errorcode.ER_BAD_DB_ERROR:\n",
    "    print(\"Database does not exist\")\n",
    "  else:\n",
    "    print(err)\n",
    "# else:\n",
    "#   cnx.close()\n",
    "# db.close()   # at some point need to close the connection with this instruction\n",
    "\n",
    "cursor = db.cursor(buffered=True)  # to avoid [error](https://stackoverflow.com/questions/29772337/python-mysql-connector-unread-result-found-when-using-fetchone)"
   ]
  },
  {
   "cell_type": "code",
   "execution_count": 2,
   "metadata": {},
   "outputs": [],
   "source": [
    "# Run this when done querying, otherwise, don't use\n",
    "# cursor.close()\n",
    "# db.close()"
   ]
  },
  {
   "cell_type": "code",
   "execution_count": 10,
   "metadata": {},
   "outputs": [
    {
     "name": "stdout",
     "output_type": "stream",
     "text": [
      "Members and guests that paid more than $30 for a facility :\n",
      "\n"
     ]
    },
    {
     "data": {
      "text/html": [
       "<div>\n",
       "<style scoped>\n",
       "    .dataframe tbody tr th:only-of-type {\n",
       "        vertical-align: middle;\n",
       "    }\n",
       "\n",
       "    .dataframe tbody tr th {\n",
       "        vertical-align: top;\n",
       "    }\n",
       "\n",
       "    .dataframe thead th {\n",
       "        text-align: right;\n",
       "    }\n",
       "</style>\n",
       "<table border=\"1\" class=\"dataframe\">\n",
       "  <thead>\n",
       "    <tr style=\"text-align: right;\">\n",
       "      <th></th>\n",
       "      <th>Cust_Id</th>\n",
       "      <th>Movie_Id</th>\n",
       "      <th>Rating</th>\n",
       "    </tr>\n",
       "  </thead>\n",
       "  <tbody>\n",
       "    <tr>\n",
       "      <th>0</th>\n",
       "      <td>97</td>\n",
       "      <td>83</td>\n",
       "      <td>4.0</td>\n",
       "    </tr>\n",
       "    <tr>\n",
       "      <th>1</th>\n",
       "      <td>97</td>\n",
       "      <td>167</td>\n",
       "      <td>4.0</td>\n",
       "    </tr>\n",
       "    <tr>\n",
       "      <th>2</th>\n",
       "      <td>97</td>\n",
       "      <td>175</td>\n",
       "      <td>3.0</td>\n",
       "    </tr>\n",
       "    <tr>\n",
       "      <th>3</th>\n",
       "      <td>97</td>\n",
       "      <td>270</td>\n",
       "      <td>3.0</td>\n",
       "    </tr>\n",
       "    <tr>\n",
       "      <th>4</th>\n",
       "      <td>97</td>\n",
       "      <td>275</td>\n",
       "      <td>4.0</td>\n",
       "    </tr>\n",
       "    <tr>\n",
       "      <th>...</th>\n",
       "      <td>...</td>\n",
       "      <td>...</td>\n",
       "      <td>...</td>\n",
       "    </tr>\n",
       "    <tr>\n",
       "      <th>479</th>\n",
       "      <td>97</td>\n",
       "      <td>17441</td>\n",
       "      <td>5.0</td>\n",
       "    </tr>\n",
       "    <tr>\n",
       "      <th>480</th>\n",
       "      <td>97</td>\n",
       "      <td>17479</td>\n",
       "      <td>2.0</td>\n",
       "    </tr>\n",
       "    <tr>\n",
       "      <th>481</th>\n",
       "      <td>97</td>\n",
       "      <td>17621</td>\n",
       "      <td>4.0</td>\n",
       "    </tr>\n",
       "    <tr>\n",
       "      <th>482</th>\n",
       "      <td>97</td>\n",
       "      <td>17627</td>\n",
       "      <td>5.0</td>\n",
       "    </tr>\n",
       "    <tr>\n",
       "      <th>483</th>\n",
       "      <td>97</td>\n",
       "      <td>17692</td>\n",
       "      <td>2.0</td>\n",
       "    </tr>\n",
       "  </tbody>\n",
       "</table>\n",
       "<p>484 rows × 3 columns</p>\n",
       "</div>"
      ],
      "text/plain": [
       "     Cust_Id  Movie_Id  Rating\n",
       "0         97        83     4.0\n",
       "1         97       167     4.0\n",
       "2         97       175     3.0\n",
       "3         97       270     3.0\n",
       "4         97       275     4.0\n",
       "..       ...       ...     ...\n",
       "479       97     17441     5.0\n",
       "480       97     17479     2.0\n",
       "481       97     17621     4.0\n",
       "482       97     17627     5.0\n",
       "483       97     17692     2.0\n",
       "\n",
       "[484 rows x 3 columns]"
      ]
     },
     "execution_count": 10,
     "metadata": {},
     "output_type": "execute_result"
    }
   ],
   "source": [
    "# Build select statement for ratings table:\n",
    "query = (\n",
    "        \"SELECT Cust_Id,Movie_Id,Rating \"\n",
    "            \"FROM ratings \" \n",
    "            \"where Cust_Id = 97\"\n",
    "        )\n",
    "\n",
    "# Execute the statement and fetch the results: results\n",
    "cursor.execute(query)\n",
    "\n",
    "result = cursor.fetchall()\n",
    "\n",
    "data = {}\n",
    "df = pd.DataFrame(data)\n",
    "\n",
    "print('First read of netflixstudy database :\\n')\n",
    "\n",
    "# Both print result to screen and append to dataframe\n",
    "for r in result:\n",
    "    data = {\n",
    "        'Cust_Id': r[0],\n",
    "        'Movie_Id': r[1],\n",
    "        'Rating': r[2]\n",
    "    }\n",
    "    df = df.append(data, ignore_index=True)\n",
    "\n",
    "df['Cust_Id'] = df['Cust_Id'].astype(int)\n",
    "df['Movie_Id'] = df['Movie_Id'].astype(int)\n",
    "\n",
    "df"
   ]
  },
  {
   "cell_type": "code",
   "execution_count": 15,
   "metadata": {},
   "outputs": [
    {
     "name": "stdout",
     "output_type": "stream",
     "text": [
      "Average Rating for a Customer ID :\n",
      "\n"
     ]
    },
    {
     "data": {
      "text/html": [
       "<div>\n",
       "<style scoped>\n",
       "    .dataframe tbody tr th:only-of-type {\n",
       "        vertical-align: middle;\n",
       "    }\n",
       "\n",
       "    .dataframe tbody tr th {\n",
       "        vertical-align: top;\n",
       "    }\n",
       "\n",
       "    .dataframe thead th {\n",
       "        text-align: right;\n",
       "    }\n",
       "</style>\n",
       "<table border=\"1\" class=\"dataframe\">\n",
       "  <thead>\n",
       "    <tr style=\"text-align: right;\">\n",
       "      <th></th>\n",
       "      <th>Cust_Id</th>\n",
       "      <th>Avg_Rating</th>\n",
       "    </tr>\n",
       "  </thead>\n",
       "  <tbody>\n",
       "    <tr>\n",
       "      <th>0</th>\n",
       "      <td>97</td>\n",
       "      <td>3.225207</td>\n",
       "    </tr>\n",
       "  </tbody>\n",
       "</table>\n",
       "</div>"
      ],
      "text/plain": [
       "   Cust_Id  Avg_Rating\n",
       "0       97    3.225207"
      ]
     },
     "execution_count": 15,
     "metadata": {},
     "output_type": "execute_result"
    }
   ],
   "source": [
    "# Build select statement for ratings table, average rating for a customer ID:\n",
    "query = (\n",
    "        \"SELECT Cust_Id, avg(Rating) \"\n",
    "            \"FROM ratings \" \n",
    "            \"where Cust_Id = 97\"\n",
    "        )\n",
    "\n",
    "# Execute the statement and fetch the results: results\n",
    "cursor.execute(query)\n",
    "\n",
    "result2 = cursor.fetchall()\n",
    "\n",
    "data = {}\n",
    "df2 = pd.DataFrame(data)\n",
    "\n",
    "print('Average Rating for a Customer ID :\\n')\n",
    "\n",
    "# Both print result to screen and append to dataframe\n",
    "for r in result2:\n",
    "    data = {\n",
    "        'Cust_Id': r[0],\n",
    "        'Avg_Rating': r[1]\n",
    "    }\n",
    "    df2 = df2.append(data, ignore_index=True)\n",
    "\n",
    "df2 = df2[['Cust_Id','Avg_Rating']]          # rearrange columns from alphabetic default order\n",
    "df2['Cust_Id'] = df2['Cust_Id'].astype(int)  # remove .0 from customer ID\n",
    "\n",
    "df2"
   ]
  },
  {
   "cell_type": "code",
   "execution_count": 16,
   "metadata": {},
   "outputs": [
    {
     "name": "stdout",
     "output_type": "stream",
     "text": [
      "Average Rating for Movie ID :\n",
      "\n"
     ]
    },
    {
     "data": {
      "text/html": [
       "<div>\n",
       "<style scoped>\n",
       "    .dataframe tbody tr th:only-of-type {\n",
       "        vertical-align: middle;\n",
       "    }\n",
       "\n",
       "    .dataframe tbody tr th {\n",
       "        vertical-align: top;\n",
       "    }\n",
       "\n",
       "    .dataframe thead th {\n",
       "        text-align: right;\n",
       "    }\n",
       "</style>\n",
       "<table border=\"1\" class=\"dataframe\">\n",
       "  <thead>\n",
       "    <tr style=\"text-align: right;\">\n",
       "      <th></th>\n",
       "      <th>Movie_Id</th>\n",
       "      <th>Avg_Rating</th>\n",
       "    </tr>\n",
       "  </thead>\n",
       "  <tbody>\n",
       "    <tr>\n",
       "      <th>0</th>\n",
       "      <td>1001</td>\n",
       "      <td>3.292859</td>\n",
       "    </tr>\n",
       "  </tbody>\n",
       "</table>\n",
       "</div>"
      ],
      "text/plain": [
       "   Movie_Id  Avg_Rating\n",
       "0      1001    3.292859"
      ]
     },
     "execution_count": 16,
     "metadata": {},
     "output_type": "execute_result"
    }
   ],
   "source": [
    "# Build select statement for ratings table, average rating for a Movie ID:\n",
    "query = (\n",
    "        \"SELECT Movie_Id, avg(Rating) \"\n",
    "            \"FROM ratings \" \n",
    "            \"where Movie_Id = 1001\"\n",
    "        )\n",
    "\n",
    "# Execute the statement and fetch the results: results\n",
    "cursor.execute(query)\n",
    "\n",
    "result3 = cursor.fetchall()\n",
    "\n",
    "data = {}\n",
    "df3 = pd.DataFrame(data)\n",
    "\n",
    "print('Average Rating for Movie ID :\\n')\n",
    "\n",
    "# Both print result to screen and append to dataframe\n",
    "for r in result3:\n",
    "    data = {\n",
    "        'Movie_Id': r[0],\n",
    "        'Avg_Rating': r[1]\n",
    "    }\n",
    "    df3 = df3.append(data, ignore_index=True)\n",
    "\n",
    "df3 = df3[['Movie_Id','Avg_Rating']]\n",
    "df3['Movie_Id'] = df3['Movie_Id'].astype(int)\n",
    "\n",
    "\n",
    "df3"
   ]
  },
  {
   "cell_type": "markdown",
   "metadata": {},
   "source": [
    "Spark platform built in scala, turicreate, packages for larger EDA\n",
    "google Memory Error with Jupyter"
   ]
  },
  {
   "cell_type": "code",
   "execution_count": 34,
   "metadata": {},
   "outputs": [
    {
     "ename": "KeyboardInterrupt",
     "evalue": "",
     "output_type": "error",
     "traceback": [
      "\u001b[1;31m---------------------------------------------------------------------------\u001b[0m",
      "\u001b[1;31mKeyboardInterrupt\u001b[0m                         Traceback (most recent call last)",
      "\u001b[1;32m<ipython-input-34-03435c912e61>\u001b[0m in \u001b[0;36m<module>\u001b[1;34m\u001b[0m\n\u001b[0;32m      8\u001b[0m \u001b[1;33m\u001b[0m\u001b[0m\n\u001b[0;32m      9\u001b[0m \u001b[1;31m# Execute the statement and fetch the results: results\u001b[0m\u001b[1;33m\u001b[0m\u001b[1;33m\u001b[0m\u001b[1;33m\u001b[0m\u001b[0m\n\u001b[1;32m---> 10\u001b[1;33m \u001b[0mcursor\u001b[0m\u001b[1;33m.\u001b[0m\u001b[0mexecute\u001b[0m\u001b[1;33m(\u001b[0m\u001b[0mquery\u001b[0m\u001b[1;33m)\u001b[0m\u001b[1;33m\u001b[0m\u001b[1;33m\u001b[0m\u001b[0m\n\u001b[0m\u001b[0;32m     11\u001b[0m \u001b[1;33m\u001b[0m\u001b[0m\n\u001b[0;32m     12\u001b[0m \u001b[0mresult4\u001b[0m \u001b[1;33m=\u001b[0m \u001b[0mcursor\u001b[0m\u001b[1;33m.\u001b[0m\u001b[0mfetchall\u001b[0m\u001b[1;33m(\u001b[0m\u001b[1;33m)\u001b[0m\u001b[1;33m\u001b[0m\u001b[1;33m\u001b[0m\u001b[0m\n",
      "\u001b[1;32m~\\anaconda3\\lib\\site-packages\\mysql\\connector\\cursor_cext.py\u001b[0m in \u001b[0;36mexecute\u001b[1;34m(self, operation, params, multi)\u001b[0m\n\u001b[0;32m    262\u001b[0m \u001b[1;33m\u001b[0m\u001b[0m\n\u001b[0;32m    263\u001b[0m         \u001b[1;32mtry\u001b[0m\u001b[1;33m:\u001b[0m\u001b[1;33m\u001b[0m\u001b[1;33m\u001b[0m\u001b[0m\n\u001b[1;32m--> 264\u001b[1;33m             result = self._cnx.cmd_query(stmt, raw=self._raw,\n\u001b[0m\u001b[0;32m    265\u001b[0m                                          \u001b[0mbuffered\u001b[0m\u001b[1;33m=\u001b[0m\u001b[0mself\u001b[0m\u001b[1;33m.\u001b[0m\u001b[0m_buffered\u001b[0m\u001b[1;33m,\u001b[0m\u001b[1;33m\u001b[0m\u001b[1;33m\u001b[0m\u001b[0m\n\u001b[0;32m    266\u001b[0m                                          raw_as_string=self._raw_as_string)\n",
      "\u001b[1;32m~\\anaconda3\\lib\\site-packages\\mysql\\connector\\connection_cext.py\u001b[0m in \u001b[0;36mcmd_query\u001b[1;34m(self, query, raw, buffered, raw_as_string)\u001b[0m\n\u001b[0;32m    485\u001b[0m             \u001b[1;32mif\u001b[0m \u001b[1;32mnot\u001b[0m \u001b[0misinstance\u001b[0m\u001b[1;33m(\u001b[0m\u001b[0mquery\u001b[0m\u001b[1;33m,\u001b[0m \u001b[0mbytes\u001b[0m\u001b[1;33m)\u001b[0m\u001b[1;33m:\u001b[0m\u001b[1;33m\u001b[0m\u001b[1;33m\u001b[0m\u001b[0m\n\u001b[0;32m    486\u001b[0m                 \u001b[0mquery\u001b[0m \u001b[1;33m=\u001b[0m \u001b[0mquery\u001b[0m\u001b[1;33m.\u001b[0m\u001b[0mencode\u001b[0m\u001b[1;33m(\u001b[0m\u001b[1;34m'utf-8'\u001b[0m\u001b[1;33m)\u001b[0m\u001b[1;33m\u001b[0m\u001b[1;33m\u001b[0m\u001b[0m\n\u001b[1;32m--> 487\u001b[1;33m             self._cmysql.query(query,\n\u001b[0m\u001b[0;32m    488\u001b[0m                                \u001b[0mraw\u001b[0m\u001b[1;33m=\u001b[0m\u001b[0mraw\u001b[0m\u001b[1;33m,\u001b[0m \u001b[0mbuffered\u001b[0m\u001b[1;33m=\u001b[0m\u001b[0mbuffered\u001b[0m\u001b[1;33m,\u001b[0m\u001b[1;33m\u001b[0m\u001b[1;33m\u001b[0m\u001b[0m\n\u001b[0;32m    489\u001b[0m                                raw_as_string=raw_as_string)\n",
      "\u001b[1;31mKeyboardInterrupt\u001b[0m: "
     ]
    }
   ],
   "source": [
    "# Build select statement to find how many customers have only one recommendation:\n",
    "query = (\n",
    "        \"SELECT Cust_Id,count(*) \"\n",
    "            \"FROM ratings \"\n",
    "            \"group by Cust_Id \"\n",
    "#             \"having count(Cust_Id) = 1\"\n",
    "        )\n",
    "\n",
    "# Execute the statement and fetch the results: results\n",
    "cursor.execute(query)\n",
    "\n",
    "result4 = cursor.fetchall()\n",
    "\n",
    "data = {}\n",
    "df4 = pd.DataFrame(data)\n",
    "\n",
    "print('Average Rating for Movie ID :\\n')\n",
    "\n",
    "# Both print result to screen and append to dataframe\n",
    "for r in result4:\n",
    "    data = {\n",
    "        'Cust_Id': r[0],\n",
    "        'Count_One': r[1]\n",
    "    }\n",
    "    df4 = df4.append(data, ignore_index=True)\n",
    "\n",
    "# df3 = df3[['Movie_Id','Avg_Rating']]\n",
    "# df3['Movie_Id'] = df3['Movie_Id'].astype(int)\n",
    "\n",
    "\n",
    "df4"
   ]
  },
  {
   "cell_type": "code",
   "execution_count": 36,
   "metadata": {},
   "outputs": [
    {
     "name": "stdout",
     "output_type": "stream",
     "text": [
      "Average Rating for Movie ID :\n",
      "\n"
     ]
    },
    {
     "data": {
      "text/html": [
       "<div>\n",
       "<style scoped>\n",
       "    .dataframe tbody tr th:only-of-type {\n",
       "        vertical-align: middle;\n",
       "    }\n",
       "\n",
       "    .dataframe tbody tr th {\n",
       "        vertical-align: top;\n",
       "    }\n",
       "\n",
       "    .dataframe thead th {\n",
       "        text-align: right;\n",
       "    }\n",
       "</style>\n",
       "<table border=\"1\" class=\"dataframe\">\n",
       "  <thead>\n",
       "    <tr style=\"text-align: right;\">\n",
       "      <th></th>\n",
       "      <th>Count_One</th>\n",
       "      <th>Cust_Id</th>\n",
       "    </tr>\n",
       "  </thead>\n",
       "  <tbody>\n",
       "    <tr>\n",
       "      <th>0</th>\n",
       "      <td>1.0</td>\n",
       "      <td>0.0</td>\n",
       "    </tr>\n",
       "    <tr>\n",
       "      <th>1</th>\n",
       "      <td>601.0</td>\n",
       "      <td>6.0</td>\n",
       "    </tr>\n",
       "    <tr>\n",
       "      <th>2</th>\n",
       "      <td>869.0</td>\n",
       "      <td>7.0</td>\n",
       "    </tr>\n",
       "    <tr>\n",
       "      <th>3</th>\n",
       "      <td>251.0</td>\n",
       "      <td>10.0</td>\n",
       "    </tr>\n",
       "    <tr>\n",
       "      <th>4</th>\n",
       "      <td>763.0</td>\n",
       "      <td>79.0</td>\n",
       "    </tr>\n",
       "    <tr>\n",
       "      <th>...</th>\n",
       "      <td>...</td>\n",
       "      <td>...</td>\n",
       "    </tr>\n",
       "    <tr>\n",
       "      <th>144376</th>\n",
       "      <td>246.0</td>\n",
       "      <td>2649370.0</td>\n",
       "    </tr>\n",
       "    <tr>\n",
       "      <th>144377</th>\n",
       "      <td>333.0</td>\n",
       "      <td>2649378.0</td>\n",
       "    </tr>\n",
       "    <tr>\n",
       "      <th>144378</th>\n",
       "      <td>286.0</td>\n",
       "      <td>2649388.0</td>\n",
       "    </tr>\n",
       "    <tr>\n",
       "      <th>144379</th>\n",
       "      <td>288.0</td>\n",
       "      <td>2649426.0</td>\n",
       "    </tr>\n",
       "    <tr>\n",
       "      <th>144380</th>\n",
       "      <td>261.0</td>\n",
       "      <td>2649429.0</td>\n",
       "    </tr>\n",
       "  </tbody>\n",
       "</table>\n",
       "<p>144381 rows × 2 columns</p>\n",
       "</div>"
      ],
      "text/plain": [
       "        Count_One    Cust_Id\n",
       "0             1.0        0.0\n",
       "1           601.0        6.0\n",
       "2           869.0        7.0\n",
       "3           251.0       10.0\n",
       "4           763.0       79.0\n",
       "...           ...        ...\n",
       "144376      246.0  2649370.0\n",
       "144377      333.0  2649378.0\n",
       "144378      286.0  2649388.0\n",
       "144379      288.0  2649426.0\n",
       "144380      261.0  2649429.0\n",
       "\n",
       "[144381 rows x 2 columns]"
      ]
     },
     "execution_count": 36,
     "metadata": {},
     "output_type": "execute_result"
    }
   ],
   "source": [
    "#  The purpose of the following 5 cells is to find (and delete) any single rating customers to save memory\n",
    "#  for the creation of a massive pivot table, there was nothing to delete.\n",
    "\n",
    "#  Just copied bottom half of the above to use existing result4 to save time\n",
    "\n",
    "# data = {}\n",
    "# df4 = pd.DataFrame(data)\n",
    "\n",
    "# print('Average Rating for Movie ID :\\n')\n",
    "\n",
    "# # Both print result to screen and append to dataframe\n",
    "# for r in result4:\n",
    "#     data = {\n",
    "#         'Cust_Id': r[0],\n",
    "#         'Count_One': r[1]\n",
    "#     }\n",
    "#     df4 = df4.append(data, ignore_index=True)\n",
    "\n",
    "# # df3 = df3[['Movie_Id','Avg_Rating']]\n",
    "# # df3['Movie_Id'] = df3['Movie_Id'].astype(int)\n",
    "\n",
    "\n",
    "# df4"
   ]
  },
  {
   "cell_type": "code",
   "execution_count": 39,
   "metadata": {},
   "outputs": [
    {
     "data": {
      "text/html": [
       "<div>\n",
       "<style scoped>\n",
       "    .dataframe tbody tr th:only-of-type {\n",
       "        vertical-align: middle;\n",
       "    }\n",
       "\n",
       "    .dataframe tbody tr th {\n",
       "        vertical-align: top;\n",
       "    }\n",
       "\n",
       "    .dataframe thead th {\n",
       "        text-align: right;\n",
       "    }\n",
       "</style>\n",
       "<table border=\"1\" class=\"dataframe\">\n",
       "  <thead>\n",
       "    <tr style=\"text-align: right;\">\n",
       "      <th></th>\n",
       "      <th>Count_One</th>\n",
       "      <th>Cust_Id</th>\n",
       "    </tr>\n",
       "  </thead>\n",
       "  <tbody>\n",
       "    <tr>\n",
       "      <th>5</th>\n",
       "      <td>484.0</td>\n",
       "      <td>97.0</td>\n",
       "    </tr>\n",
       "  </tbody>\n",
       "</table>\n",
       "</div>"
      ],
      "text/plain": [
       "   Count_One  Cust_Id\n",
       "5      484.0     97.0"
      ]
     },
     "execution_count": 39,
     "metadata": {},
     "output_type": "execute_result"
    }
   ],
   "source": [
    "df4[df4['Cust_Id']==97]"
   ]
  },
  {
   "cell_type": "code",
   "execution_count": 40,
   "metadata": {},
   "outputs": [
    {
     "data": {
      "text/html": [
       "<div>\n",
       "<style scoped>\n",
       "    .dataframe tbody tr th:only-of-type {\n",
       "        vertical-align: middle;\n",
       "    }\n",
       "\n",
       "    .dataframe tbody tr th {\n",
       "        vertical-align: top;\n",
       "    }\n",
       "\n",
       "    .dataframe thead th {\n",
       "        text-align: right;\n",
       "    }\n",
       "</style>\n",
       "<table border=\"1\" class=\"dataframe\">\n",
       "  <thead>\n",
       "    <tr style=\"text-align: right;\">\n",
       "      <th></th>\n",
       "      <th>Count_One</th>\n",
       "      <th>Cust_Id</th>\n",
       "    </tr>\n",
       "  </thead>\n",
       "  <tbody>\n",
       "    <tr>\n",
       "      <th>0</th>\n",
       "      <td>1.0</td>\n",
       "      <td>0.0</td>\n",
       "    </tr>\n",
       "  </tbody>\n",
       "</table>\n",
       "</div>"
      ],
      "text/plain": [
       "   Count_One  Cust_Id\n",
       "0        1.0      0.0"
      ]
     },
     "execution_count": 40,
     "metadata": {},
     "output_type": "execute_result"
    }
   ],
   "source": [
    "df4[df4['Count_One']==1]"
   ]
  },
  {
   "cell_type": "code",
   "execution_count": 31,
   "metadata": {},
   "outputs": [
    {
     "data": {
      "text/plain": [
       "Index(['Count_One'], dtype='object')"
      ]
     },
     "execution_count": 31,
     "metadata": {},
     "output_type": "execute_result"
    }
   ],
   "source": [
    "df4.columns"
   ]
  },
  {
   "cell_type": "code",
   "execution_count": 32,
   "metadata": {},
   "outputs": [
    {
     "data": {
      "text/plain": [
       "(144381, 1)"
      ]
     },
     "execution_count": 32,
     "metadata": {},
     "output_type": "execute_result"
    }
   ],
   "source": [
    "df4.shape"
   ]
  },
  {
   "cell_type": "code",
   "execution_count": 45,
   "metadata": {},
   "outputs": [
    {
     "data": {
      "text/html": [
       "<div>\n",
       "<style scoped>\n",
       "    .dataframe tbody tr th:only-of-type {\n",
       "        vertical-align: middle;\n",
       "    }\n",
       "\n",
       "    .dataframe tbody tr th {\n",
       "        vertical-align: top;\n",
       "    }\n",
       "\n",
       "    .dataframe thead th {\n",
       "        text-align: right;\n",
       "    }\n",
       "</style>\n",
       "<table border=\"1\" class=\"dataframe\">\n",
       "  <thead>\n",
       "    <tr style=\"text-align: right;\">\n",
       "      <th></th>\n",
       "      <th>Count_One</th>\n",
       "      <th>Cust_Id</th>\n",
       "    </tr>\n",
       "  </thead>\n",
       "  <tbody>\n",
       "    <tr>\n",
       "      <th>0</th>\n",
       "      <td>1.0</td>\n",
       "      <td>0.0</td>\n",
       "    </tr>\n",
       "    <tr>\n",
       "      <th>1</th>\n",
       "      <td>601.0</td>\n",
       "      <td>6.0</td>\n",
       "    </tr>\n",
       "    <tr>\n",
       "      <th>2</th>\n",
       "      <td>869.0</td>\n",
       "      <td>7.0</td>\n",
       "    </tr>\n",
       "    <tr>\n",
       "      <th>3</th>\n",
       "      <td>251.0</td>\n",
       "      <td>10.0</td>\n",
       "    </tr>\n",
       "    <tr>\n",
       "      <th>4</th>\n",
       "      <td>763.0</td>\n",
       "      <td>79.0</td>\n",
       "    </tr>\n",
       "    <tr>\n",
       "      <th>5</th>\n",
       "      <td>484.0</td>\n",
       "      <td>97.0</td>\n",
       "    </tr>\n",
       "    <tr>\n",
       "      <th>6</th>\n",
       "      <td>226.0</td>\n",
       "      <td>116.0</td>\n",
       "    </tr>\n",
       "    <tr>\n",
       "      <th>7</th>\n",
       "      <td>729.0</td>\n",
       "      <td>134.0</td>\n",
       "    </tr>\n",
       "    <tr>\n",
       "      <th>8</th>\n",
       "      <td>305.0</td>\n",
       "      <td>169.0</td>\n",
       "    </tr>\n",
       "    <tr>\n",
       "      <th>9</th>\n",
       "      <td>560.0</td>\n",
       "      <td>188.0</td>\n",
       "    </tr>\n",
       "    <tr>\n",
       "      <th>10</th>\n",
       "      <td>381.0</td>\n",
       "      <td>195.0</td>\n",
       "    </tr>\n",
       "    <tr>\n",
       "      <th>11</th>\n",
       "      <td>699.0</td>\n",
       "      <td>199.0</td>\n",
       "    </tr>\n",
       "    <tr>\n",
       "      <th>12</th>\n",
       "      <td>364.0</td>\n",
       "      <td>201.0</td>\n",
       "    </tr>\n",
       "    <tr>\n",
       "      <th>13</th>\n",
       "      <td>242.0</td>\n",
       "      <td>250.0</td>\n",
       "    </tr>\n",
       "    <tr>\n",
       "      <th>14</th>\n",
       "      <td>532.0</td>\n",
       "      <td>265.0</td>\n",
       "    </tr>\n",
       "    <tr>\n",
       "      <th>15</th>\n",
       "      <td>225.0</td>\n",
       "      <td>266.0</td>\n",
       "    </tr>\n",
       "    <tr>\n",
       "      <th>16</th>\n",
       "      <td>276.0</td>\n",
       "      <td>268.0</td>\n",
       "    </tr>\n",
       "    <tr>\n",
       "      <th>17</th>\n",
       "      <td>469.0</td>\n",
       "      <td>283.0</td>\n",
       "    </tr>\n",
       "    <tr>\n",
       "      <th>18</th>\n",
       "      <td>235.0</td>\n",
       "      <td>291.0</td>\n",
       "    </tr>\n",
       "    <tr>\n",
       "      <th>19</th>\n",
       "      <td>231.0</td>\n",
       "      <td>296.0</td>\n",
       "    </tr>\n",
       "  </tbody>\n",
       "</table>\n",
       "</div>"
      ],
      "text/plain": [
       "    Count_One  Cust_Id\n",
       "0         1.0      0.0\n",
       "1       601.0      6.0\n",
       "2       869.0      7.0\n",
       "3       251.0     10.0\n",
       "4       763.0     79.0\n",
       "5       484.0     97.0\n",
       "6       226.0    116.0\n",
       "7       729.0    134.0\n",
       "8       305.0    169.0\n",
       "9       560.0    188.0\n",
       "10      381.0    195.0\n",
       "11      699.0    199.0\n",
       "12      364.0    201.0\n",
       "13      242.0    250.0\n",
       "14      532.0    265.0\n",
       "15      225.0    266.0\n",
       "16      276.0    268.0\n",
       "17      469.0    283.0\n",
       "18      235.0    291.0\n",
       "19      231.0    296.0"
      ]
     },
     "execution_count": 45,
     "metadata": {},
     "output_type": "execute_result"
    }
   ],
   "source": [
    "df4.head(20)"
   ]
  },
  {
   "cell_type": "code",
   "execution_count": 44,
   "metadata": {},
   "outputs": [
    {
     "data": {
      "text/plain": [
       "Count_One    38.0\n",
       "Cust_Id       6.0\n",
       "dtype: float64"
      ]
     },
     "execution_count": 44,
     "metadata": {},
     "output_type": "execute_result"
    }
   ],
   "source": [
    "df4[df4['Count_One']>1].min()"
   ]
  },
  {
   "cell_type": "code",
   "execution_count": null,
   "metadata": {},
   "outputs": [],
   "source": [
    "df5 = df4['Count_One']"
   ]
  },
  {
   "cell_type": "markdown",
   "metadata": {},
   "source": [
    "Call with Kevin 9oct2020 9amCDT\n",
    "Spark platform built in scala, turicreate, packages for larger EDA\n",
    "google Memory Error with Jupyter and Netflix Kaggle competition\n",
    "jupyter config up memory\n",
    "Filter\n",
    "Hardware no, use cloud first  Google Cloud compute, AWS or (What about Anaconda Cloud), check out the free options"
   ]
  }
 ],
 "metadata": {
  "kernelspec": {
   "display_name": "Python 3",
   "language": "python",
   "name": "python3"
  },
  "language_info": {
   "codemirror_mode": {
    "name": "ipython",
    "version": 3
   },
   "file_extension": ".py",
   "mimetype": "text/x-python",
   "name": "python",
   "nbconvert_exporter": "python",
   "pygments_lexer": "ipython3",
   "version": "3.8.3"
  }
 },
 "nbformat": 4,
 "nbformat_minor": 4
}

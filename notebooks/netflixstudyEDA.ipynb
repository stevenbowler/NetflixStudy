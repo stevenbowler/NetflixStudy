{
 "cells": [
  {
   "cell_type": "markdown",
   "metadata": {},
   "source": [
    "## This is the EDA for the netflixstudy requested by Dr. Lei UTRGV Computer Science"
   ]
  },
  {
   "cell_type": "markdown",
   "metadata": {},
   "source": [
    "### Contains assignment #1 down below, was submitted 6 oct 2020 on Blackboard for CSCI6370"
   ]
  },
  {
   "cell_type": "code",
   "execution_count": 46,
   "metadata": {},
   "outputs": [],
   "source": [
    "# Import necessary module\n",
    "import pandas as pd\n",
    "import numpy as np\n",
    "import mysql.connector\n",
    "from mysql.connector import errorcode\n",
    "from pandas_profiling import ProfileReport\n",
    "\n"
   ]
  },
  {
   "cell_type": "code",
   "execution_count": 16,
   "metadata": {},
   "outputs": [],
   "source": [
    "# from https://dev.mysql.com/doc/connector-python/en/connector-python-example-connecting.html\n",
    "try:\n",
    "    db = mysql.connector.connect(\n",
    "        host=\"localhost\",\n",
    "        user=\"root\",\n",
    "        password=\"\",\n",
    "        database=\"netflixstudy\"\n",
    "        )\n",
    "except mysql.connector.Error as err:\n",
    "  if err.errno == errorcode.ER_ACCESS_DENIED_ERROR:\n",
    "    print(\"Something is wrong with your user name or password\")\n",
    "  elif err.errno == errorcode.ER_BAD_DB_ERROR:\n",
    "    print(\"Database does not exist\")\n",
    "  else:\n",
    "    print(err)\n",
    "# else:\n",
    "#   cnx.close()\n",
    "# db.close()   # at some point need to close the connection with this instruction\n",
    "\n",
    "cursor = db.cursor(buffered=True)  # to avoid [error](https://stackoverflow.com/questions/29772337/python-mysql-connector-unread-result-found-when-using-fetchone)"
   ]
  },
  {
   "cell_type": "code",
   "execution_count": null,
   "metadata": {},
   "outputs": [],
   "source": [
    "cursor.close()\n",
    "db.close()"
   ]
  },
  {
   "cell_type": "code",
   "execution_count": null,
   "metadata": {},
   "outputs": [],
   "source": [
    "# Build select statement for ratings table: stmt\n",
    "query = 'SELECT * FROM members'\n",
    "\n",
    "# Execute the statement and fetch the results: results\n",
    "cursor.execute(query)\n",
    "\n",
    "rows = cursor.fetchall()    # get all selected rows\n",
    "for r in rows:\n",
    "    print(r)"
   ]
  },
  {
   "cell_type": "code",
   "execution_count": 3,
   "metadata": {},
   "outputs": [],
   "source": [
    "df = pd.read_csv('../data/processed/df.csv')"
   ]
  },
  {
   "cell_type": "code",
   "execution_count": 4,
   "metadata": {},
   "outputs": [],
   "source": [
    "df1= df[0:10000]"
   ]
  },
  {
   "cell_type": "code",
   "execution_count": 5,
   "metadata": {},
   "outputs": [
    {
     "data": {
      "text/html": [
       "<div>\n",
       "<style scoped>\n",
       "    .dataframe tbody tr th:only-of-type {\n",
       "        vertical-align: middle;\n",
       "    }\n",
       "\n",
       "    .dataframe tbody tr th {\n",
       "        vertical-align: top;\n",
       "    }\n",
       "\n",
       "    .dataframe thead th {\n",
       "        text-align: right;\n",
       "    }\n",
       "</style>\n",
       "<table border=\"1\" class=\"dataframe\">\n",
       "  <thead>\n",
       "    <tr style=\"text-align: right;\">\n",
       "      <th></th>\n",
       "      <th>Unnamed: 0</th>\n",
       "      <th>Cust_Id</th>\n",
       "      <th>Rating</th>\n",
       "      <th>Movie_Id</th>\n",
       "    </tr>\n",
       "  </thead>\n",
       "  <tbody>\n",
       "    <tr>\n",
       "      <th>0</th>\n",
       "      <td>696</td>\n",
       "      <td>712664</td>\n",
       "      <td>5.0</td>\n",
       "      <td>3</td>\n",
       "    </tr>\n",
       "    <tr>\n",
       "      <th>1</th>\n",
       "      <td>697</td>\n",
       "      <td>1331154</td>\n",
       "      <td>4.0</td>\n",
       "      <td>3</td>\n",
       "    </tr>\n",
       "    <tr>\n",
       "      <th>2</th>\n",
       "      <td>698</td>\n",
       "      <td>2632461</td>\n",
       "      <td>3.0</td>\n",
       "      <td>3</td>\n",
       "    </tr>\n",
       "    <tr>\n",
       "      <th>3</th>\n",
       "      <td>699</td>\n",
       "      <td>44937</td>\n",
       "      <td>5.0</td>\n",
       "      <td>3</td>\n",
       "    </tr>\n",
       "    <tr>\n",
       "      <th>4</th>\n",
       "      <td>700</td>\n",
       "      <td>656399</td>\n",
       "      <td>4.0</td>\n",
       "      <td>3</td>\n",
       "    </tr>\n",
       "  </tbody>\n",
       "</table>\n",
       "</div>"
      ],
      "text/plain": [
       "   Unnamed: 0  Cust_Id  Rating  Movie_Id\n",
       "0         696   712664     5.0         3\n",
       "1         697  1331154     4.0         3\n",
       "2         698  2632461     3.0         3\n",
       "3         699    44937     5.0         3\n",
       "4         700   656399     4.0         3"
      ]
     },
     "execution_count": 5,
     "metadata": {},
     "output_type": "execute_result"
    }
   ],
   "source": [
    "df1.head()"
   ]
  },
  {
   "cell_type": "code",
   "execution_count": 6,
   "metadata": {},
   "outputs": [
    {
     "data": {
      "text/html": [
       "<div>\n",
       "<style scoped>\n",
       "    .dataframe tbody tr th:only-of-type {\n",
       "        vertical-align: middle;\n",
       "    }\n",
       "\n",
       "    .dataframe tbody tr th {\n",
       "        vertical-align: top;\n",
       "    }\n",
       "\n",
       "    .dataframe thead th {\n",
       "        text-align: right;\n",
       "    }\n",
       "</style>\n",
       "<table border=\"1\" class=\"dataframe\">\n",
       "  <thead>\n",
       "    <tr style=\"text-align: right;\">\n",
       "      <th></th>\n",
       "      <th>Unnamed: 0</th>\n",
       "      <th>Cust_Id</th>\n",
       "      <th>Rating</th>\n",
       "      <th>Movie_Id</th>\n",
       "    </tr>\n",
       "  </thead>\n",
       "  <tbody>\n",
       "    <tr>\n",
       "      <th>count</th>\n",
       "      <td>10000.000000</td>\n",
       "      <td>1.000000e+04</td>\n",
       "      <td>10000.000000</td>\n",
       "      <td>10000.000000</td>\n",
       "    </tr>\n",
       "    <tr>\n",
       "      <th>mean</th>\n",
       "      <td>10459.371300</td>\n",
       "      <td>1.328241e+06</td>\n",
       "      <td>3.207300</td>\n",
       "      <td>7.253500</td>\n",
       "    </tr>\n",
       "    <tr>\n",
       "      <th>std</th>\n",
       "      <td>5199.107895</td>\n",
       "      <td>7.688886e+05</td>\n",
       "      <td>1.267552</td>\n",
       "      <td>1.782009</td>\n",
       "    </tr>\n",
       "    <tr>\n",
       "      <th>min</th>\n",
       "      <td>696.000000</td>\n",
       "      <td>7.000000e+00</td>\n",
       "      <td>1.000000</td>\n",
       "      <td>3.000000</td>\n",
       "    </tr>\n",
       "    <tr>\n",
       "      <th>25%</th>\n",
       "      <td>6739.000000</td>\n",
       "      <td>6.538500e+05</td>\n",
       "      <td>2.000000</td>\n",
       "      <td>8.000000</td>\n",
       "    </tr>\n",
       "    <tr>\n",
       "      <th>50%</th>\n",
       "      <td>10778.000000</td>\n",
       "      <td>1.335578e+06</td>\n",
       "      <td>3.000000</td>\n",
       "      <td>8.000000</td>\n",
       "    </tr>\n",
       "    <tr>\n",
       "      <th>75%</th>\n",
       "      <td>14871.250000</td>\n",
       "      <td>1.999638e+06</td>\n",
       "      <td>4.000000</td>\n",
       "      <td>8.000000</td>\n",
       "    </tr>\n",
       "    <tr>\n",
       "      <th>max</th>\n",
       "      <td>18862.000000</td>\n",
       "      <td>2.649336e+06</td>\n",
       "      <td>5.000000</td>\n",
       "      <td>8.000000</td>\n",
       "    </tr>\n",
       "  </tbody>\n",
       "</table>\n",
       "</div>"
      ],
      "text/plain": [
       "         Unnamed: 0       Cust_Id        Rating      Movie_Id\n",
       "count  10000.000000  1.000000e+04  10000.000000  10000.000000\n",
       "mean   10459.371300  1.328241e+06      3.207300      7.253500\n",
       "std     5199.107895  7.688886e+05      1.267552      1.782009\n",
       "min      696.000000  7.000000e+00      1.000000      3.000000\n",
       "25%     6739.000000  6.538500e+05      2.000000      8.000000\n",
       "50%    10778.000000  1.335578e+06      3.000000      8.000000\n",
       "75%    14871.250000  1.999638e+06      4.000000      8.000000\n",
       "max    18862.000000  2.649336e+06      5.000000      8.000000"
      ]
     },
     "execution_count": 6,
     "metadata": {},
     "output_type": "execute_result"
    }
   ],
   "source": [
    "df1.describe()"
   ]
  },
  {
   "cell_type": "code",
   "execution_count": 7,
   "metadata": {},
   "outputs": [
    {
     "data": {
      "text/html": [
       "<div>\n",
       "<style scoped>\n",
       "    .dataframe tbody tr th:only-of-type {\n",
       "        vertical-align: middle;\n",
       "    }\n",
       "\n",
       "    .dataframe tbody tr th {\n",
       "        vertical-align: top;\n",
       "    }\n",
       "\n",
       "    .dataframe thead tr th {\n",
       "        text-align: left;\n",
       "    }\n",
       "\n",
       "    .dataframe thead tr:last-of-type th {\n",
       "        text-align: right;\n",
       "    }\n",
       "</style>\n",
       "<table border=\"1\" class=\"dataframe\">\n",
       "  <thead>\n",
       "    <tr>\n",
       "      <th></th>\n",
       "      <th colspan=\"8\" halign=\"left\">Unnamed: 0</th>\n",
       "      <th colspan=\"5\" halign=\"left\">Rating</th>\n",
       "      <th colspan=\"8\" halign=\"left\">Movie_Id</th>\n",
       "    </tr>\n",
       "    <tr>\n",
       "      <th></th>\n",
       "      <th>count</th>\n",
       "      <th>mean</th>\n",
       "      <th>std</th>\n",
       "      <th>min</th>\n",
       "      <th>25%</th>\n",
       "      <th>50%</th>\n",
       "      <th>75%</th>\n",
       "      <th>max</th>\n",
       "      <th>count</th>\n",
       "      <th>mean</th>\n",
       "      <th>...</th>\n",
       "      <th>75%</th>\n",
       "      <th>max</th>\n",
       "      <th>count</th>\n",
       "      <th>mean</th>\n",
       "      <th>std</th>\n",
       "      <th>min</th>\n",
       "      <th>25%</th>\n",
       "      <th>50%</th>\n",
       "      <th>75%</th>\n",
       "      <th>max</th>\n",
       "    </tr>\n",
       "    <tr>\n",
       "      <th>Cust_Id</th>\n",
       "      <th></th>\n",
       "      <th></th>\n",
       "      <th></th>\n",
       "      <th></th>\n",
       "      <th></th>\n",
       "      <th></th>\n",
       "      <th></th>\n",
       "      <th></th>\n",
       "      <th></th>\n",
       "      <th></th>\n",
       "      <th></th>\n",
       "      <th></th>\n",
       "      <th></th>\n",
       "      <th></th>\n",
       "      <th></th>\n",
       "      <th></th>\n",
       "      <th></th>\n",
       "      <th></th>\n",
       "      <th></th>\n",
       "      <th></th>\n",
       "      <th></th>\n",
       "    </tr>\n",
       "  </thead>\n",
       "  <tbody>\n",
       "    <tr>\n",
       "      <th>7</th>\n",
       "      <td>1.0</td>\n",
       "      <td>12549.0</td>\n",
       "      <td>NaN</td>\n",
       "      <td>12549.0</td>\n",
       "      <td>12549.00</td>\n",
       "      <td>12549.0</td>\n",
       "      <td>12549.00</td>\n",
       "      <td>12549.0</td>\n",
       "      <td>1.0</td>\n",
       "      <td>5.0</td>\n",
       "      <td>...</td>\n",
       "      <td>5.00</td>\n",
       "      <td>5.0</td>\n",
       "      <td>1.0</td>\n",
       "      <td>8.0</td>\n",
       "      <td>NaN</td>\n",
       "      <td>8.0</td>\n",
       "      <td>8.00</td>\n",
       "      <td>8.0</td>\n",
       "      <td>8.00</td>\n",
       "      <td>8.0</td>\n",
       "    </tr>\n",
       "    <tr>\n",
       "      <th>695</th>\n",
       "      <td>1.0</td>\n",
       "      <td>8718.0</td>\n",
       "      <td>NaN</td>\n",
       "      <td>8718.0</td>\n",
       "      <td>8718.00</td>\n",
       "      <td>8718.0</td>\n",
       "      <td>8718.00</td>\n",
       "      <td>8718.0</td>\n",
       "      <td>1.0</td>\n",
       "      <td>1.0</td>\n",
       "      <td>...</td>\n",
       "      <td>1.00</td>\n",
       "      <td>1.0</td>\n",
       "      <td>1.0</td>\n",
       "      <td>8.0</td>\n",
       "      <td>NaN</td>\n",
       "      <td>8.0</td>\n",
       "      <td>8.00</td>\n",
       "      <td>8.0</td>\n",
       "      <td>8.00</td>\n",
       "      <td>8.0</td>\n",
       "    </tr>\n",
       "    <tr>\n",
       "      <th>1333</th>\n",
       "      <td>2.0</td>\n",
       "      <td>3160.5</td>\n",
       "      <td>3377.849094</td>\n",
       "      <td>772.0</td>\n",
       "      <td>1966.25</td>\n",
       "      <td>3160.5</td>\n",
       "      <td>4354.75</td>\n",
       "      <td>5549.0</td>\n",
       "      <td>2.0</td>\n",
       "      <td>3.5</td>\n",
       "      <td>...</td>\n",
       "      <td>3.75</td>\n",
       "      <td>4.0</td>\n",
       "      <td>2.0</td>\n",
       "      <td>5.5</td>\n",
       "      <td>3.535534</td>\n",
       "      <td>3.0</td>\n",
       "      <td>4.25</td>\n",
       "      <td>5.5</td>\n",
       "      <td>6.75</td>\n",
       "      <td>8.0</td>\n",
       "    </tr>\n",
       "    <tr>\n",
       "      <th>2133</th>\n",
       "      <td>1.0</td>\n",
       "      <td>7297.0</td>\n",
       "      <td>NaN</td>\n",
       "      <td>7297.0</td>\n",
       "      <td>7297.00</td>\n",
       "      <td>7297.0</td>\n",
       "      <td>7297.00</td>\n",
       "      <td>7297.0</td>\n",
       "      <td>1.0</td>\n",
       "      <td>2.0</td>\n",
       "      <td>...</td>\n",
       "      <td>2.00</td>\n",
       "      <td>2.0</td>\n",
       "      <td>1.0</td>\n",
       "      <td>8.0</td>\n",
       "      <td>NaN</td>\n",
       "      <td>8.0</td>\n",
       "      <td>8.00</td>\n",
       "      <td>8.0</td>\n",
       "      <td>8.00</td>\n",
       "      <td>8.0</td>\n",
       "    </tr>\n",
       "    <tr>\n",
       "      <th>3184</th>\n",
       "      <td>1.0</td>\n",
       "      <td>13595.0</td>\n",
       "      <td>NaN</td>\n",
       "      <td>13595.0</td>\n",
       "      <td>13595.00</td>\n",
       "      <td>13595.0</td>\n",
       "      <td>13595.00</td>\n",
       "      <td>13595.0</td>\n",
       "      <td>1.0</td>\n",
       "      <td>2.0</td>\n",
       "      <td>...</td>\n",
       "      <td>2.00</td>\n",
       "      <td>2.0</td>\n",
       "      <td>1.0</td>\n",
       "      <td>8.0</td>\n",
       "      <td>NaN</td>\n",
       "      <td>8.0</td>\n",
       "      <td>8.00</td>\n",
       "      <td>8.0</td>\n",
       "      <td>8.00</td>\n",
       "      <td>8.0</td>\n",
       "    </tr>\n",
       "    <tr>\n",
       "      <th>...</th>\n",
       "      <td>...</td>\n",
       "      <td>...</td>\n",
       "      <td>...</td>\n",
       "      <td>...</td>\n",
       "      <td>...</td>\n",
       "      <td>...</td>\n",
       "      <td>...</td>\n",
       "      <td>...</td>\n",
       "      <td>...</td>\n",
       "      <td>...</td>\n",
       "      <td>...</td>\n",
       "      <td>...</td>\n",
       "      <td>...</td>\n",
       "      <td>...</td>\n",
       "      <td>...</td>\n",
       "      <td>...</td>\n",
       "      <td>...</td>\n",
       "      <td>...</td>\n",
       "      <td>...</td>\n",
       "      <td>...</td>\n",
       "      <td>...</td>\n",
       "    </tr>\n",
       "    <tr>\n",
       "      <th>2648583</th>\n",
       "      <td>1.0</td>\n",
       "      <td>15795.0</td>\n",
       "      <td>NaN</td>\n",
       "      <td>15795.0</td>\n",
       "      <td>15795.00</td>\n",
       "      <td>15795.0</td>\n",
       "      <td>15795.00</td>\n",
       "      <td>15795.0</td>\n",
       "      <td>1.0</td>\n",
       "      <td>2.0</td>\n",
       "      <td>...</td>\n",
       "      <td>2.00</td>\n",
       "      <td>2.0</td>\n",
       "      <td>1.0</td>\n",
       "      <td>8.0</td>\n",
       "      <td>NaN</td>\n",
       "      <td>8.0</td>\n",
       "      <td>8.00</td>\n",
       "      <td>8.0</td>\n",
       "      <td>8.00</td>\n",
       "      <td>8.0</td>\n",
       "    </tr>\n",
       "    <tr>\n",
       "      <th>2648694</th>\n",
       "      <td>1.0</td>\n",
       "      <td>13918.0</td>\n",
       "      <td>NaN</td>\n",
       "      <td>13918.0</td>\n",
       "      <td>13918.00</td>\n",
       "      <td>13918.0</td>\n",
       "      <td>13918.00</td>\n",
       "      <td>13918.0</td>\n",
       "      <td>1.0</td>\n",
       "      <td>4.0</td>\n",
       "      <td>...</td>\n",
       "      <td>4.00</td>\n",
       "      <td>4.0</td>\n",
       "      <td>1.0</td>\n",
       "      <td>8.0</td>\n",
       "      <td>NaN</td>\n",
       "      <td>8.0</td>\n",
       "      <td>8.00</td>\n",
       "      <td>8.0</td>\n",
       "      <td>8.00</td>\n",
       "      <td>8.0</td>\n",
       "    </tr>\n",
       "    <tr>\n",
       "      <th>2648781</th>\n",
       "      <td>1.0</td>\n",
       "      <td>16367.0</td>\n",
       "      <td>NaN</td>\n",
       "      <td>16367.0</td>\n",
       "      <td>16367.00</td>\n",
       "      <td>16367.0</td>\n",
       "      <td>16367.00</td>\n",
       "      <td>16367.0</td>\n",
       "      <td>1.0</td>\n",
       "      <td>4.0</td>\n",
       "      <td>...</td>\n",
       "      <td>4.00</td>\n",
       "      <td>4.0</td>\n",
       "      <td>1.0</td>\n",
       "      <td>8.0</td>\n",
       "      <td>NaN</td>\n",
       "      <td>8.0</td>\n",
       "      <td>8.00</td>\n",
       "      <td>8.0</td>\n",
       "      <td>8.00</td>\n",
       "      <td>8.0</td>\n",
       "    </tr>\n",
       "    <tr>\n",
       "      <th>2648956</th>\n",
       "      <td>1.0</td>\n",
       "      <td>14924.0</td>\n",
       "      <td>NaN</td>\n",
       "      <td>14924.0</td>\n",
       "      <td>14924.00</td>\n",
       "      <td>14924.0</td>\n",
       "      <td>14924.00</td>\n",
       "      <td>14924.0</td>\n",
       "      <td>1.0</td>\n",
       "      <td>4.0</td>\n",
       "      <td>...</td>\n",
       "      <td>4.00</td>\n",
       "      <td>4.0</td>\n",
       "      <td>1.0</td>\n",
       "      <td>8.0</td>\n",
       "      <td>NaN</td>\n",
       "      <td>8.0</td>\n",
       "      <td>8.00</td>\n",
       "      <td>8.0</td>\n",
       "      <td>8.00</td>\n",
       "      <td>8.0</td>\n",
       "    </tr>\n",
       "    <tr>\n",
       "      <th>2649336</th>\n",
       "      <td>1.0</td>\n",
       "      <td>17447.0</td>\n",
       "      <td>NaN</td>\n",
       "      <td>17447.0</td>\n",
       "      <td>17447.00</td>\n",
       "      <td>17447.0</td>\n",
       "      <td>17447.00</td>\n",
       "      <td>17447.0</td>\n",
       "      <td>1.0</td>\n",
       "      <td>4.0</td>\n",
       "      <td>...</td>\n",
       "      <td>4.00</td>\n",
       "      <td>4.0</td>\n",
       "      <td>1.0</td>\n",
       "      <td>8.0</td>\n",
       "      <td>NaN</td>\n",
       "      <td>8.0</td>\n",
       "      <td>8.00</td>\n",
       "      <td>8.0</td>\n",
       "      <td>8.00</td>\n",
       "      <td>8.0</td>\n",
       "    </tr>\n",
       "  </tbody>\n",
       "</table>\n",
       "<p>9796 rows × 24 columns</p>\n",
       "</div>"
      ],
      "text/plain": [
       "        Unnamed: 0                                                    \\\n",
       "             count     mean          std      min       25%      50%   \n",
       "Cust_Id                                                                \n",
       "7              1.0  12549.0          NaN  12549.0  12549.00  12549.0   \n",
       "695            1.0   8718.0          NaN   8718.0   8718.00   8718.0   \n",
       "1333           2.0   3160.5  3377.849094    772.0   1966.25   3160.5   \n",
       "2133           1.0   7297.0          NaN   7297.0   7297.00   7297.0   \n",
       "3184           1.0  13595.0          NaN  13595.0  13595.00  13595.0   \n",
       "...            ...      ...          ...      ...       ...      ...   \n",
       "2648583        1.0  15795.0          NaN  15795.0  15795.00  15795.0   \n",
       "2648694        1.0  13918.0          NaN  13918.0  13918.00  13918.0   \n",
       "2648781        1.0  16367.0          NaN  16367.0  16367.00  16367.0   \n",
       "2648956        1.0  14924.0          NaN  14924.0  14924.00  14924.0   \n",
       "2649336        1.0  17447.0          NaN  17447.0  17447.00  17447.0   \n",
       "\n",
       "                           Rating       ...            Movie_Id       \\\n",
       "              75%      max  count mean  ...   75%  max    count mean   \n",
       "Cust_Id                                 ...                            \n",
       "7        12549.00  12549.0    1.0  5.0  ...  5.00  5.0      1.0  8.0   \n",
       "695       8718.00   8718.0    1.0  1.0  ...  1.00  1.0      1.0  8.0   \n",
       "1333      4354.75   5549.0    2.0  3.5  ...  3.75  4.0      2.0  5.5   \n",
       "2133      7297.00   7297.0    1.0  2.0  ...  2.00  2.0      1.0  8.0   \n",
       "3184     13595.00  13595.0    1.0  2.0  ...  2.00  2.0      1.0  8.0   \n",
       "...           ...      ...    ...  ...  ...   ...  ...      ...  ...   \n",
       "2648583  15795.00  15795.0    1.0  2.0  ...  2.00  2.0      1.0  8.0   \n",
       "2648694  13918.00  13918.0    1.0  4.0  ...  4.00  4.0      1.0  8.0   \n",
       "2648781  16367.00  16367.0    1.0  4.0  ...  4.00  4.0      1.0  8.0   \n",
       "2648956  14924.00  14924.0    1.0  4.0  ...  4.00  4.0      1.0  8.0   \n",
       "2649336  17447.00  17447.0    1.0  4.0  ...  4.00  4.0      1.0  8.0   \n",
       "\n",
       "                                              \n",
       "              std  min   25%  50%   75%  max  \n",
       "Cust_Id                                       \n",
       "7             NaN  8.0  8.00  8.0  8.00  8.0  \n",
       "695           NaN  8.0  8.00  8.0  8.00  8.0  \n",
       "1333     3.535534  3.0  4.25  5.5  6.75  8.0  \n",
       "2133          NaN  8.0  8.00  8.0  8.00  8.0  \n",
       "3184          NaN  8.0  8.00  8.0  8.00  8.0  \n",
       "...           ...  ...   ...  ...   ...  ...  \n",
       "2648583       NaN  8.0  8.00  8.0  8.00  8.0  \n",
       "2648694       NaN  8.0  8.00  8.0  8.00  8.0  \n",
       "2648781       NaN  8.0  8.00  8.0  8.00  8.0  \n",
       "2648956       NaN  8.0  8.00  8.0  8.00  8.0  \n",
       "2649336       NaN  8.0  8.00  8.0  8.00  8.0  \n",
       "\n",
       "[9796 rows x 24 columns]"
      ]
     },
     "execution_count": 7,
     "metadata": {},
     "output_type": "execute_result"
    }
   ],
   "source": [
    "df1.groupby('Cust_Id').describe()"
   ]
  },
  {
   "cell_type": "code",
   "execution_count": 12,
   "metadata": {},
   "outputs": [
    {
     "data": {
      "text/plain": [
       "Cust_Id\n",
       "6          3.425957\n",
       "7          4.019563\n",
       "10         3.434263\n",
       "79         3.557012\n",
       "97         3.225207\n",
       "             ...   \n",
       "2649370    3.873984\n",
       "2649378    3.273273\n",
       "2649388    3.297203\n",
       "2649426    4.069444\n",
       "2649429    4.183908\n",
       "Name: Rating, Length: 144380, dtype: float64"
      ]
     },
     "execution_count": 12,
     "metadata": {},
     "output_type": "execute_result"
    }
   ],
   "source": [
    "df.groupby('Cust_Id').Rating.mean()"
   ]
  },
  {
   "cell_type": "code",
   "execution_count": 14,
   "metadata": {},
   "outputs": [
    {
     "data": {
      "text/plain": [
       "Cust_Id\n",
       "6          0.835619\n",
       "7          0.899736\n",
       "10         1.034728\n",
       "79         1.064994\n",
       "97         1.164034\n",
       "             ...   \n",
       "2649370    1.024383\n",
       "2649378    1.006204\n",
       "2649388    0.878072\n",
       "2649426    0.719589\n",
       "2649429    0.951057\n",
       "Name: Rating, Length: 144380, dtype: float64"
      ]
     },
     "execution_count": 14,
     "metadata": {},
     "output_type": "execute_result"
    }
   ],
   "source": [
    "df.groupby('Cust_Id').Rating.std()"
   ]
  },
  {
   "cell_type": "code",
   "execution_count": 13,
   "metadata": {},
   "outputs": [
    {
     "data": {
      "text/plain": [
       "Movie_Id\n",
       "3        3.620228\n",
       "8        3.140967\n",
       "16       3.080652\n",
       "17       2.914113\n",
       "18       3.768554\n",
       "           ...   \n",
       "17761    2.913339\n",
       "17762    3.613454\n",
       "17763    3.391178\n",
       "17764    3.844434\n",
       "17769    2.496705\n",
       "Name: Rating, Length: 5332, dtype: float64"
      ]
     },
     "execution_count": 13,
     "metadata": {},
     "output_type": "execute_result"
    }
   ],
   "source": [
    "df.groupby('Movie_Id').Rating.mean()"
   ]
  },
  {
   "cell_type": "code",
   "execution_count": 15,
   "metadata": {},
   "outputs": [
    {
     "data": {
      "text/plain": [
       "Movie_Id\n",
       "3        0.982988\n",
       "8        1.294535\n",
       "16       0.982483\n",
       "17       0.972030\n",
       "18       0.938449\n",
       "           ...   \n",
       "17761    0.969598\n",
       "17762    0.924843\n",
       "17763    1.095431\n",
       "17764    0.964141\n",
       "17769    1.049344\n",
       "Name: Rating, Length: 5332, dtype: float64"
      ]
     },
     "execution_count": 15,
     "metadata": {},
     "output_type": "execute_result"
    }
   ],
   "source": [
    "df.groupby('Movie_Id').Rating.std()"
   ]
  },
  {
   "cell_type": "markdown",
   "metadata": {},
   "source": [
    "<br>"
   ]
  },
  {
   "cell_type": "markdown",
   "metadata": {},
   "source": [
    "### Homework assignment     Steven Bowler   20562494   UTRGV CSCI6370  Dr. Lei\n",
    "\n",
    "Submit:  a report in word doc format answering 4 questions: \n",
    "\n",
    "1. Describe the dataset\n",
    "2. Describe how the data is loaded\n",
    "3. What is the average rating for movie ID 1001?  \n",
    "4. What is the average rating that user ID 20001 gives to movies?"
   ]
  },
  {
   "cell_type": "markdown",
   "metadata": {},
   "source": [
    "#### <font color=red> Homework Question 1 <font color=black>\n",
    "    \n",
    "Netflix study data is provided in three principal parts\n",
    "\n",
    "    1.Training Data - in for files titled 'combined_data_*.txt total 100MM records\n",
    "    2.Test Data - in the file probe.txt\n",
    "    3.Qualifying Data - used for the competition to provide predictions against\n",
    "    \n",
    "The above 3 files are in the same general format, that each need to be parsed out into a table:\n",
    "    Movie_Id:\n",
    "    Cust_Id,Rating,Date\n",
    "    \n",
    "There is also a Movie Titles file that contains Movie_Id and Movie_Title.\n",
    "        "
   ]
  },
  {
   "cell_type": "markdown",
   "metadata": {},
   "source": [
    "#### <font color=red> Homework Question 2 <font color=black>\n",
    "Currently the data is loaded using two Jupyter notebooks, see [Github repo](https://github.com/stevenbowler/netflixstudy) stevenbowler/netflixstudy:\n",
    "\n",
    "1. Data-Wrangling: Load, clean, store as .csv  see [Github Data Wrangling](https://github.com/stevenbowler/netflixstudy/blob/master/reports/netflixstudyDataWranglingForCSCI6370.pdf)\n",
    "2. Preliminary EDA: this same file, see [Github Preliminary EDA](https://github.com/stevenbowler/netflixstudy/blob/master/reports/netflixstudyEDAforCSCI6370.pdf) "
   ]
  },
  {
   "cell_type": "markdown",
   "metadata": {},
   "source": [
    "#### <font color=red> Homework Question 3 <font color=black>\n",
    "\n",
    "Pick a movie id and show average rating for that movie"
   ]
  },
  {
   "cell_type": "code",
   "execution_count": 39,
   "metadata": {},
   "outputs": [
    {
     "name": "stdout",
     "output_type": "stream",
     "text": [
      "Movie  1001 had an average rating of 3.29\n"
     ]
    }
   ],
   "source": [
    "Movie_id = 1001\n",
    "movie_average = df[df['Movie_Id']==Movie_id].Rating.mean()\n",
    "print('Movie ',Movie_id,'had an average rating of',np.round(movie_average,2))"
   ]
  },
  {
   "cell_type": "markdown",
   "metadata": {},
   "source": [
    "#### <font color=red> Homework Question 4 <font color=black>\n",
    "    \n",
    "pick a customer id and show average rating for that customer"
   ]
  },
  {
   "cell_type": "code",
   "execution_count": 38,
   "metadata": {},
   "outputs": [
    {
     "name": "stdout",
     "output_type": "stream",
     "text": [
      "Customer  97 had an average rating of 3.23\n"
     ]
    }
   ],
   "source": [
    "# per homework question 4, pick a customer id and show average rating for that customer\n",
    "Customer_id = 97\n",
    "customer_average = df[df['Cust_Id']==Customer_id].Rating.mean()\n",
    "print('Customer ',Customer_id,'had an average rating of',np.round(customer_average,2))"
   ]
  },
  {
   "cell_type": "markdown",
   "metadata": {},
   "source": [
    "### continue study following homework submission\n",
    "\n",
    "Continue with study:\n",
    "1. pandas_profiling\n",
    "2. determine correlation between Cust_Id.Rating and Movie_Id.mean() for any given combo of Cust_Id and Movie_Id."
   ]
  },
  {
   "cell_type": "code",
   "execution_count": 47,
   "metadata": {},
   "outputs": [],
   "source": [
    "# pandas profiling on just the bare df dataframe\n",
    "# df_profile = ProfileReport(df, title='Pandas Profiling Report',correlations={\"cramers\": {\"calculate\": False},\"pearson\": {\"calculate\": False},\"spearman\": {\"calculate\": False},\"kendall\": {\"calculate\": False},\"phi_k\": {\"calculate\": False}})\n",
    "df_profile = ProfileReport(df, title='Pandas Profiling Report Netflix Processed',correlations=None)"
   ]
  },
  {
   "cell_type": "code",
   "execution_count": 48,
   "metadata": {},
   "outputs": [
    {
     "data": {
      "application/vnd.jupyter.widget-view+json": {
       "model_id": "8ab93694cb96447aa6434e2c37ca8d20",
       "version_major": 2,
       "version_minor": 0
      },
      "text/plain": [
       "HBox(children=(FloatProgress(value=0.0, description='Summarize dataset', max=13.0, style=ProgressStyle(descrip…"
      ]
     },
     "metadata": {},
     "output_type": "display_data"
    },
    {
     "name": "stdout",
     "output_type": "stream",
     "text": [
      "\n"
     ]
    },
    {
     "data": {
      "application/vnd.jupyter.widget-view+json": {
       "model_id": "dddff9b85a8a40ce855729ac57f53876",
       "version_major": 2,
       "version_minor": 0
      },
      "text/plain": [
       "HBox(children=(FloatProgress(value=0.0, description='Generate report structure', max=1.0, style=ProgressStyle(…"
      ]
     },
     "metadata": {},
     "output_type": "display_data"
    },
    {
     "name": "stdout",
     "output_type": "stream",
     "text": [
      "\n"
     ]
    },
    {
     "data": {
      "application/vnd.jupyter.widget-view+json": {
       "model_id": "",
       "version_major": 2,
       "version_minor": 0
      },
      "text/plain": [
       "HBox(children=(FloatProgress(value=0.0, description='Render widgets', max=1.0, style=ProgressStyle(description…"
      ]
     },
     "metadata": {},
     "output_type": "display_data"
    },
    {
     "data": {
      "application/vnd.jupyter.widget-view+json": {
       "model_id": "18b135be39514f97a9b6088b6f00e0f2",
       "version_major": 2,
       "version_minor": 0
      },
      "text/plain": [
       "VBox(children=(Tab(children=(Tab(children=(GridBox(children=(VBox(children=(GridspecLayout(children=(HTML(valu…"
      ]
     },
     "metadata": {},
     "output_type": "display_data"
    }
   ],
   "source": [
    "df_profile.to_widgets()"
   ]
  },
  {
   "cell_type": "code",
   "execution_count": 49,
   "metadata": {},
   "outputs": [
    {
     "data": {
      "application/vnd.jupyter.widget-view+json": {
       "model_id": "5f7e4ad27a774ab2a868823150bacef6",
       "version_major": 2,
       "version_minor": 0
      },
      "text/plain": [
       "HBox(children=(FloatProgress(value=0.0, description='Render HTML', max=1.0, style=ProgressStyle(description_wi…"
      ]
     },
     "metadata": {},
     "output_type": "display_data"
    },
    {
     "name": "stdout",
     "output_type": "stream",
     "text": [
      "\n"
     ]
    },
    {
     "data": {
      "application/vnd.jupyter.widget-view+json": {
       "model_id": "b05f69acf3cc4559baeb89965f1b6d9c",
       "version_major": 2,
       "version_minor": 0
      },
      "text/plain": [
       "HBox(children=(FloatProgress(value=0.0, description='Export report to file', max=1.0, style=ProgressStyle(desc…"
      ]
     },
     "metadata": {},
     "output_type": "display_data"
    },
    {
     "name": "stdout",
     "output_type": "stream",
     "text": [
      "\n"
     ]
    }
   ],
   "source": [
    "df_profile.to_file('../reports/df_profile.html')"
   ]
  },
  {
   "cell_type": "markdown",
   "metadata": {},
   "source": [
    "### Pandas Profile including some correlations"
   ]
  },
  {
   "cell_type": "code",
   "execution_count": 50,
   "metadata": {},
   "outputs": [],
   "source": [
    "df_profile_correlations = ProfileReport(df, title='Pandas Profiling Report',correlations={\"cramers\": {\"calculate\": False},\"pearson\": {\"calculate\": True},\"spearman\": {\"calculate\": False},\"kendall\": {\"calculate\": False},\"phi_k\": {\"calculate\": False}})\n"
   ]
  },
  {
   "cell_type": "code",
   "execution_count": 51,
   "metadata": {},
   "outputs": [
    {
     "data": {
      "application/vnd.jupyter.widget-view+json": {
       "model_id": "bea5a277840c4f2b90ab5fdc6446ef8b",
       "version_major": 2,
       "version_minor": 0
      },
      "text/plain": [
       "HBox(children=(FloatProgress(value=0.0, description='Summarize dataset', max=14.0, style=ProgressStyle(descrip…"
      ]
     },
     "metadata": {},
     "output_type": "display_data"
    },
    {
     "name": "stdout",
     "output_type": "stream",
     "text": [
      "\n"
     ]
    },
    {
     "data": {
      "application/vnd.jupyter.widget-view+json": {
       "model_id": "7f02b61e9c91420c995ba24992122cb4",
       "version_major": 2,
       "version_minor": 0
      },
      "text/plain": [
       "HBox(children=(FloatProgress(value=0.0, description='Generate report structure', max=1.0, style=ProgressStyle(…"
      ]
     },
     "metadata": {},
     "output_type": "display_data"
    },
    {
     "name": "stdout",
     "output_type": "stream",
     "text": [
      "\n"
     ]
    },
    {
     "data": {
      "application/vnd.jupyter.widget-view+json": {
       "model_id": "",
       "version_major": 2,
       "version_minor": 0
      },
      "text/plain": [
       "HBox(children=(FloatProgress(value=0.0, description='Render widgets', max=1.0, style=ProgressStyle(description…"
      ]
     },
     "metadata": {},
     "output_type": "display_data"
    },
    {
     "data": {
      "application/vnd.jupyter.widget-view+json": {
       "model_id": "daae78dd42c24a9a8e6fb74fb8927f3e",
       "version_major": 2,
       "version_minor": 0
      },
      "text/plain": [
       "VBox(children=(Tab(children=(Tab(children=(GridBox(children=(VBox(children=(GridspecLayout(children=(HTML(valu…"
      ]
     },
     "metadata": {},
     "output_type": "display_data"
    }
   ],
   "source": [
    "df_profile_correlations.to_widgets()"
   ]
  },
  {
   "cell_type": "code",
   "execution_count": 53,
   "metadata": {},
   "outputs": [
    {
     "data": {
      "application/vnd.jupyter.widget-view+json": {
       "model_id": "185962a7dcbd4674b0d3b3849f874d36",
       "version_major": 2,
       "version_minor": 0
      },
      "text/plain": [
       "HBox(children=(FloatProgress(value=0.0, description='Render HTML', max=1.0, style=ProgressStyle(description_wi…"
      ]
     },
     "metadata": {},
     "output_type": "display_data"
    },
    {
     "name": "stdout",
     "output_type": "stream",
     "text": [
      "\n"
     ]
    },
    {
     "data": {
      "application/vnd.jupyter.widget-view+json": {
       "model_id": "1ebd23eb0edf46abb5a79761ba3db075",
       "version_major": 2,
       "version_minor": 0
      },
      "text/plain": [
       "HBox(children=(FloatProgress(value=0.0, description='Export report to file', max=1.0, style=ProgressStyle(desc…"
      ]
     },
     "metadata": {},
     "output_type": "display_data"
    },
    {
     "name": "stdout",
     "output_type": "stream",
     "text": [
      "\n"
     ]
    }
   ],
   "source": [
    "df_profile_correlations.to_file('../reports/df_profile_correlations.html')"
   ]
  },
  {
   "cell_type": "markdown",
   "metadata": {},
   "source": [
    "Start looking for correlations and relationships within the dataset: \n",
    "\n",
    "Ratings by Movie_Id will be key to modelling, so look at average Rating and STD by Movie."
   ]
  },
  {
   "cell_type": "code",
   "execution_count": 43,
   "metadata": {},
   "outputs": [
    {
     "data": {
      "text/plain": [
       "Movie_Id\n",
       "3     3.620228\n",
       "8     3.140967\n",
       "16    3.080652\n",
       "17    2.914113\n",
       "18    3.768554\n",
       "Name: Rating, dtype: float64"
      ]
     },
     "execution_count": 43,
     "metadata": {},
     "output_type": "execute_result"
    }
   ],
   "source": [
    "movie_mean = df.groupby('Movie_Id').Rating.mean()\n",
    "movie_mean.head()"
   ]
  },
  {
   "cell_type": "code",
   "execution_count": 45,
   "metadata": {},
   "outputs": [
    {
     "data": {
      "text/plain": [
       "count    5332.000000\n",
       "mean        3.496904\n",
       "std         0.414843\n",
       "min         1.863087\n",
       "25%         3.223699\n",
       "50%         3.516596\n",
       "75%         3.787702\n",
       "max         4.716273\n",
       "Name: Rating, dtype: float64"
      ]
     },
     "execution_count": 45,
     "metadata": {},
     "output_type": "execute_result"
    }
   ],
   "source": [
    "movie_mean.describe()"
   ]
  },
  {
   "cell_type": "code",
   "execution_count": 44,
   "metadata": {},
   "outputs": [
    {
     "data": {
      "text/plain": [
       "Movie_Id\n",
       "3     0.982988\n",
       "8     1.294535\n",
       "16    0.982483\n",
       "17    0.972030\n",
       "18    0.938449\n",
       "Name: Rating, dtype: float64"
      ]
     },
     "execution_count": 44,
     "metadata": {},
     "output_type": "execute_result"
    }
   ],
   "source": [
    "movie_std = df.groupby('Movie_Id').Rating.std()\n",
    "movie_std.head()"
   ]
  },
  {
   "cell_type": "code",
   "execution_count": null,
   "metadata": {},
   "outputs": [],
   "source": []
  }
 ],
 "metadata": {
  "kernelspec": {
   "display_name": "Python 3",
   "language": "python",
   "name": "python3"
  },
  "language_info": {
   "codemirror_mode": {
    "name": "ipython",
    "version": 3
   },
   "file_extension": ".py",
   "mimetype": "text/x-python",
   "name": "python",
   "nbconvert_exporter": "python",
   "pygments_lexer": "ipython3",
   "version": "3.8.3"
  }
 },
 "nbformat": 4,
 "nbformat_minor": 4
}
